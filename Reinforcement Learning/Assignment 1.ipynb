{
 "cells": [
  {
   "cell_type": "markdown",
   "metadata": {},
   "source": [
    "Let's suppose there are 'n' number of delivery stations and 'm' number of total routes possible. So we can create an R matrix (of m rows and n columns), where each element of R matrix will correspond to a reward for taking a particular route from that particular station. (rewards will be based on some matrics like time take, fuel consumed. so this kind of reward elements needs to be provided or calculated somehow)\n",
    "\n",
    "Now we create Q matrix (of m rows and n columns) which will represent the weight for taking a particular route from that particular station. Initially all elements of Q matrix will be zero and only after the learning we are going to establish an optimal Q matrix.\n",
    "\n",
    "So the goal will be to visit all the stations which we want to make a delivary at. Let's say we have to make 'd' number of delivaries. So our goal will be to make visit to all the 'd' stations, constraint on maximising our reward."
   ]
  },
  {
   "cell_type": "markdown",
   "metadata": {},
   "source": [
    "So final problem boils down to making visits to 'd' number of stations where we have total 'n' number of stations and 'm' number of possible routes. While visiting all the 'd' stations, aim is to maximize the total reward."
   ]
  }
 ],
 "metadata": {
  "kernelspec": {
   "display_name": "Python 3",
   "language": "python",
   "name": "python3"
  },
  "language_info": {
   "codemirror_mode": {
    "name": "ipython",
    "version": 3
   },
   "file_extension": ".py",
   "mimetype": "text/x-python",
   "name": "python",
   "nbconvert_exporter": "python",
   "pygments_lexer": "ipython3",
   "version": "3.8.3"
  }
 },
 "nbformat": 4,
 "nbformat_minor": 4
}
