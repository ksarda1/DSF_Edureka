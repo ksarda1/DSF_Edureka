{
 "cells": [
  {
   "cell_type": "code",
   "execution_count": 1,
   "metadata": {},
   "outputs": [
    {
     "name": "stderr",
     "output_type": "stream",
     "text": [
      "C:\\Users\\MADHAV\\anaconda3\\lib\\site-packages\\IPython\\core\\interactiveshell.py:3063: DtypeWarning: Columns (12) have mixed types.Specify dtype option on import or set low_memory=False.\n",
      "  interactivity=interactivity, compiler=compiler, result=result)\n"
     ]
    }
   ],
   "source": [
    "import pandas as pd\n",
    "import numpy as np\n",
    "import matplotlib.pyplot as plt\n",
    "\n",
    "data = pd.read_csv('Salaries.csv')"
   ]
  },
  {
   "cell_type": "code",
   "execution_count": 2,
   "metadata": {},
   "outputs": [
    {
     "name": "stdout",
     "output_type": "stream",
     "text": [
      "Increase in total cost is 1227752749.8799443\n"
     ]
    }
   ],
   "source": [
    "year_data = data.groupby('Year').sum()\n",
    "print('Increase in total cost is',year_data.TotalPayBenefits[2014] - year_data.TotalPayBenefits[2011])"
   ]
  },
  {
   "cell_type": "code",
   "execution_count": 3,
   "metadata": {},
   "outputs": [
    {
     "name": "stdout",
     "output_type": "stream",
     "text": [
      "In year 2014 OverTimePay was 5.39 percentage of TotalPayBenefits\n"
     ]
    }
   ],
   "source": [
    "ot = 100*year_data.loc[2014].OvertimePay/year_data.loc[2014].TotalPayBenefits\n",
    "print('In year 2014 OverTimePay was %.2f percentage of TotalPayBenefits'%ot)"
   ]
  },
  {
   "cell_type": "code",
   "execution_count": 4,
   "metadata": {},
   "outputs": [
    {
     "name": "stdout",
     "output_type": "stream",
     "text": [
      "'Chief Investment Officer' Job Title in Year 2014 has highest mean salary\n"
     ]
    }
   ],
   "source": [
    "hj = list(data.groupby('JobTitle').mean().TotalPayBenefits.sort_values().tail(1).index)\n",
    "print(\"'%s' Job Title in Year 2014 has highest mean salary\"%hj[0])"
   ]
  },
  {
   "cell_type": "code",
   "execution_count": 5,
   "metadata": {},
   "outputs": [
    {
     "name": "stdout",
     "output_type": "stream",
     "text": [
      "'BdComm Mbr, Grp2,M=$25/Mtg'Job Title in Year 2014 has lowest mean salary\n"
     ]
    }
   ],
   "source": [
    "y = data.loc[data.Year==2014].groupby('JobTitle').mean().sort_values(by='TotalPayBenefits').head(1)\n",
    "print(\"'%s'Job Title in Year 2014 has lowest mean salary\"%list(y.index)[0])"
   ]
  },
  {
   "cell_type": "code",
   "execution_count": 6,
   "metadata": {},
   "outputs": [
    {
     "name": "stdout",
     "output_type": "stream",
     "text": [
      "205918599.27 money could have been saved in Year 2014 by stopping OverTimePay\n"
     ]
    }
   ],
   "source": [
    "ot = year_data.OvertimePay[2014]\n",
    "print('%.2f money could have been saved in Year 2014 by stopping OverTimePay'%ot)"
   ]
  },
  {
   "cell_type": "code",
   "execution_count": 7,
   "metadata": {},
   "outputs": [],
   "source": [
    "x = data.loc[data.Year==2014].groupby('JobTitle').count()\n",
    "y = data.loc[data.Year==2014].groupby('JobTitle').sum()\n",
    "z = x.sort_values(by='Id').tail()\n",
    "z1 = x.sort_values(by='Id').head()"
   ]
  },
  {
   "cell_type": "code",
   "execution_count": 8,
   "metadata": {},
   "outputs": [
    {
     "name": "stdout",
     "output_type": "stream",
     "text": [
      "Top 5 comman jobs in 2014 are:\n",
      "Transit Operator and it costs 152007977.75\n",
      "Special Nurse and it costs 49498738.23\n",
      "Registered Nurse and it costs 144406501.26\n",
      "Public Svc Aide-Public Works and it costs 8535453.79\n",
      "Firefighter and it costs 113283574.60\n"
     ]
    }
   ],
   "source": [
    "print('Top 5 comman jobs in 2014 are:')\n",
    "x = dict(y.loc[z.index].TotalPay[::-1])\n",
    "for i in x.keys():\n",
    "    print('%s and it costs %.2f'%(i,x[i]))"
   ]
  },
  {
   "cell_type": "code",
   "execution_count": 9,
   "metadata": {},
   "outputs": [
    {
     "name": "stdout",
     "output_type": "stream",
     "text": [
      "Top 5 comman jobs in 2014 are:\n",
      "ACPO,JuvP, Juv Prob (SFERS) and it costs 62290.78\n",
      "Graphics Supervisor and it costs 82759.80\n",
      "Govrnmt/Publ Affairs Mgr and it costs 106866.42\n",
      "Gen Mgr, Public Trnsp Dept and it costs 294000.18\n",
      "Forensic Toxicologist Supervis and it costs 17363.14\n"
     ]
    }
   ],
   "source": [
    "print('Top 5 comman jobs in 2014 are:')\n",
    "x = dict(y.loc[z1.index].TotalPay)\n",
    "for i in x.keys():\n",
    "    print('%s and it costs %.2f'%(i,x[i]))"
   ]
  },
  {
   "cell_type": "code",
   "execution_count": 10,
   "metadata": {},
   "outputs": [
    {
     "name": "stdout",
     "output_type": "stream",
     "text": [
      "Top earning employee is Kevin Lee\n"
     ]
    }
   ],
   "source": [
    "t = data.groupby('EmployeeName').sum().sort_values(by='TotalPay').tail(1)\n",
    "print('Top earning employee is',list(t.index)[0])"
   ]
  },
  {
   "cell_type": "code",
   "execution_count": null,
   "metadata": {},
   "outputs": [],
   "source": []
  }
 ],
 "metadata": {
  "kernelspec": {
   "display_name": "Python 3",
   "language": "python",
   "name": "python3"
  },
  "language_info": {
   "codemirror_mode": {
    "name": "ipython",
    "version": 3
   },
   "file_extension": ".py",
   "mimetype": "text/x-python",
   "name": "python",
   "nbconvert_exporter": "python",
   "pygments_lexer": "ipython3",
   "version": "3.7.6"
  }
 },
 "nbformat": 4,
 "nbformat_minor": 4
}
