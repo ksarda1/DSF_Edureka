{
 "cells": [
  {
   "cell_type": "code",
   "execution_count": 1,
   "metadata": {},
   "outputs": [],
   "source": [
    "import pandas as pd\n",
    "import numpy as np\n",
    "import matplotlib.pyplot as plt"
   ]
  },
  {
   "cell_type": "code",
   "execution_count": 2,
   "metadata": {},
   "outputs": [],
   "source": [
    "data = pd.read_csv('horse.csv')"
   ]
  },
  {
   "cell_type": "code",
   "execution_count": 3,
   "metadata": {},
   "outputs": [
    {
     "data": {
      "text/plain": [
       "surgery                  False\n",
       "age                      False\n",
       "hospital_number          False\n",
       "rectal_temp               True\n",
       "pulse                     True\n",
       "respiratory_rate          True\n",
       "temp_of_extremities       True\n",
       "peripheral_pulse          True\n",
       "mucous_membrane           True\n",
       "capillary_refill_time     True\n",
       "pain                      True\n",
       "peristalsis               True\n",
       "abdominal_distention      True\n",
       "nasogastric_tube          True\n",
       "nasogastric_reflux        True\n",
       "nasogastric_reflux_ph     True\n",
       "rectal_exam_feces         True\n",
       "abdomen                   True\n",
       "packed_cell_volume        True\n",
       "total_protein             True\n",
       "abdomo_appearance         True\n",
       "abdomo_protein            True\n",
       "outcome                  False\n",
       "surgical_lesion          False\n",
       "lesion_1                 False\n",
       "lesion_2                 False\n",
       "lesion_3                 False\n",
       "cp_data                  False\n",
       "dtype: bool"
      ]
     },
     "execution_count": 3,
     "metadata": {},
     "output_type": "execute_result"
    }
   ],
   "source": [
    "data.isna().any()"
   ]
  },
  {
   "cell_type": "code",
   "execution_count": 4,
   "metadata": {},
   "outputs": [],
   "source": [
    "cat = list(data.select_dtypes('object').columns)\n",
    "\n",
    "from sklearn import preprocessing\n",
    "\n",
    "le = preprocessing.LabelEncoder()\n",
    "for i in cat:\n",
    "    x = pd.Series([i for i in data[i].unique() if type(i)==str])\n",
    "    le.fit(x)\n",
    "    data[i] = data[i].apply(lambda y: le.transform([y])[0] if type(y)==str else y)"
   ]
  },
  {
   "cell_type": "code",
   "execution_count": 5,
   "metadata": {},
   "outputs": [],
   "source": [
    "x = dict(data.isna().any())\n",
    "\n",
    "from sklearn.impute import SimpleImputer\n",
    "imp_freq = SimpleImputer(strategy='most_frequent')\n",
    "data = pd.DataFrame(imp_freq.fit_transform(data),columns=list(data.columns))"
   ]
  },
  {
   "cell_type": "code",
   "execution_count": 6,
   "metadata": {},
   "outputs": [],
   "source": [
    "from sklearn.model_selection import train_test_split\n",
    "\n",
    "x_train,x_test,y_train,y_test = train_test_split(data.drop(['outcome'],axis=1), data.outcome,train_size=0.75)"
   ]
  },
  {
   "cell_type": "code",
   "execution_count": 7,
   "metadata": {},
   "outputs": [
    {
     "data": {
      "text/plain": [
       "0.6"
      ]
     },
     "execution_count": 7,
     "metadata": {},
     "output_type": "execute_result"
    }
   ],
   "source": [
    "from sklearn import tree\n",
    "from sklearn.model_selection import cross_val_score\n",
    "clf = tree.DecisionTreeClassifier()\n",
    "clf.fit(x_train,y_train)\n",
    "clf.score(x_test,y_test)"
   ]
  },
  {
   "cell_type": "code",
   "execution_count": 8,
   "metadata": {},
   "outputs": [
    {
     "data": {
      "text/plain": [
       "0.6533333333333333"
      ]
     },
     "execution_count": 8,
     "metadata": {},
     "output_type": "execute_result"
    }
   ],
   "source": [
    "from sklearn.ensemble import RandomForestClassifier\n",
    "clf = RandomForestClassifier()\n",
    "clf.fit(x_train,y_train)\n",
    "clf.score(x_test,y_test)"
   ]
  },
  {
   "cell_type": "code",
   "execution_count": null,
   "metadata": {},
   "outputs": [],
   "source": []
  }
 ],
 "metadata": {
  "kernelspec": {
   "display_name": "Python 3",
   "language": "python",
   "name": "python3"
  },
  "language_info": {
   "codemirror_mode": {
    "name": "ipython",
    "version": 3
   },
   "file_extension": ".py",
   "mimetype": "text/x-python",
   "name": "python",
   "nbconvert_exporter": "python",
   "pygments_lexer": "ipython3",
   "version": "3.7.6"
  }
 },
 "nbformat": 4,
 "nbformat_minor": 4
}
