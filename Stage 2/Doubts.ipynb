{
 "cells": [
  {
   "cell_type": "markdown",
   "metadata": {},
   "source": [
    "sklearn.LinearModel.regression(X,y,sample_weights)\n",
    "#### use case for sample weights?? ok"
   ]
  },
  {
   "cell_type": "markdown",
   "metadata": {},
   "source": [
    "sklearn.LinearModel.regression.score()\n",
    "#### R^2 significance?? ok"
   ]
  },
  {
   "cell_type": "markdown",
   "metadata": {},
   "source": [
    "sklearn.LinearModel.regression(fit_intercept=False)\n",
    "#### fit_intercept=False significance?? ok"
   ]
  },
  {
   "cell_type": "markdown",
   "metadata": {},
   "source": [
    "sklearn.LinearModel.regression(normalize=True)\n",
    "#### normalize/standardize significance?? ok"
   ]
  },
  {
   "cell_type": "markdown",
   "metadata": {},
   "source": [
    "removing features based on corr\n",
    "#### what should be corr limit value(0.8/0.65)?? ok"
   ]
  },
  {
   "cell_type": "markdown",
   "metadata": {},
   "source": [
    "whats best way\n",
    "#### fill NA then categorical variables/ labelEncoder and then fill NA?? ok"
   ]
  },
  {
   "cell_type": "markdown",
   "metadata": {},
   "source": [
    "Series/lambda function\n",
    "#### np.nan interpratation??"
   ]
  },
  {
   "cell_type": "markdown",
   "metadata": {},
   "source": [
    "logistic regression\n",
    "#### solvers??\n",
    "#### penalty/regularization??\n",
    "#### tol??\n",
    "#### C/regularization strength??\n",
    "#### class_weight??\n",
    "#### max_iter??"
   ]
  },
  {
   "cell_type": "markdown",
   "metadata": {},
   "source": [
    "logsticregression\n",
    "#### where to specify the threshold??"
   ]
  },
  {
   "cell_type": "markdown",
   "metadata": {},
   "source": [
    "categorical variable\n",
    "#### labelEncoder/One hot encoding?? which is better? search more (get dummies, map function, pd.categorical)"
   ]
  },
  {
   "cell_type": "markdown",
   "metadata": {},
   "source": [
    "iterative imputer\n",
    "#### explain??"
   ]
  },
  {
   "cell_type": "markdown",
   "metadata": {},
   "source": [
    "significance of diff types of imputer\n",
    "#### knn imputer??"
   ]
  },
  {
   "cell_type": "markdown",
   "metadata": {},
   "source": [
    "search about it\n",
    "#### gausian method of imputation??\n",
    "#### LOOCV technique??\n",
    "#### Analytics Vidhya website\n",
    "#### free repos for books"
   ]
  },
  {
   "cell_type": "markdown",
   "metadata": {},
   "source": [
    "logistic regression\n",
    "#### penalty/regularization??\n",
    "https://towardsdatascience.com/intuitions-on-l1-and-l2-regularisation-235f2db4c261"
   ]
  },
  {
   "cell_type": "code",
   "execution_count": null,
   "metadata": {},
   "outputs": [],
   "source": []
  }
 ],
 "metadata": {
  "kernelspec": {
   "display_name": "Python 3",
   "language": "python",
   "name": "python3"
  },
  "language_info": {
   "codemirror_mode": {
    "name": "ipython",
    "version": 3
   },
   "file_extension": ".py",
   "mimetype": "text/x-python",
   "name": "python",
   "nbconvert_exporter": "python",
   "pygments_lexer": "ipython3",
   "version": "3.7.6"
  }
 },
 "nbformat": 4,
 "nbformat_minor": 4
}
