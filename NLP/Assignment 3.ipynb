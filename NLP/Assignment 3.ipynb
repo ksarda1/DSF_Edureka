{
 "cells": [
  {
   "cell_type": "code",
   "execution_count": 1,
   "metadata": {},
   "outputs": [],
   "source": [
    "import nltk"
   ]
  },
  {
   "cell_type": "code",
   "execution_count": 2,
   "metadata": {},
   "outputs": [],
   "source": [
    "sent = str('I want to go home after lunch')"
   ]
  },
  {
   "cell_type": "code",
   "execution_count": 22,
   "metadata": {},
   "outputs": [
    {
     "name": "stdout",
     "output_type": "stream",
     "text": [
      "(S I/PRP want/VBP to/TO go/VB (MN home/NN) after/IN (MN lunch/NN))\n"
     ]
    }
   ],
   "source": [
    "pos = nltk.pos_tag(nltk.word_tokenize(sent))\n",
    "my_node = \"MN: {<NN>}\"\n",
    "chunk  = nltk.RegexpParser(my_node)\n",
    "result = chunk.parse(pos)\n",
    "print(result)\n",
    "result.draw()"
   ]
  },
  {
   "cell_type": "code",
   "execution_count": 10,
   "metadata": {},
   "outputs": [
    {
     "name": "stdout",
     "output_type": "stream",
     "text": [
      "(S\n",
      "  (NP I)\n",
      "  (VP\n",
      "    (V want)\n",
      "    (PP (Det to) (VP (V go) (N home)))\n",
      "    (NP (V after) (N lunch))))\n"
     ]
    }
   ],
   "source": [
    "grammar = nltk.CFG.fromstring(\"\"\"\n",
    "  S -> NP VP \n",
    "  VP -> V N | V PP NP\n",
    "  PP -> Det VP\n",
    "  V -> \"want\" |\"after\" | \"go\"\n",
    "  NP -> \"I\" | V N\n",
    "  N -> \"home\"|\"lunch\"\n",
    "  Det -> \"to\"\n",
    "  \"\"\")\n",
    "\n",
    "sent = 'I want to go home after lunch'.split()\n",
    "parser = nltk.RecursiveDescentParser(grammar)\n",
    "for tree in parser.parse(sent):\n",
    "    print(tree)\n",
    "#    tree.draw()"
   ]
  },
  {
   "cell_type": "code",
   "execution_count": null,
   "metadata": {},
   "outputs": [],
   "source": []
  }
 ],
 "metadata": {
  "kernelspec": {
   "display_name": "Python 3",
   "language": "python",
   "name": "python3"
  },
  "language_info": {
   "codemirror_mode": {
    "name": "ipython",
    "version": 3
   },
   "file_extension": ".py",
   "mimetype": "text/x-python",
   "name": "python",
   "nbconvert_exporter": "python",
   "pygments_lexer": "ipython3",
   "version": "3.8.3"
  }
 },
 "nbformat": 4,
 "nbformat_minor": 4
}
