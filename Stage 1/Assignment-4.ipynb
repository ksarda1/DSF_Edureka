{
 "cells": [
  {
   "cell_type": "markdown",
   "metadata": {},
   "source": [
    "# 1. "
   ]
  },
  {
   "cell_type": "code",
   "execution_count": 21,
   "metadata": {},
   "outputs": [
    {
     "name": "stdout",
     "output_type": "stream",
     "text": [
      "Input the UP steps: 5\n",
      "Input the DOWN steps: 2\n",
      "Input the RIGHT steps: 4\n",
      "Input the LEFT steps: 1\n",
      "Distance of current position is 4.24\n"
     ]
    }
   ],
   "source": [
    "u = int(input('Input the UP steps: '))\n",
    "d = int(input('Input the DOWN steps: '))\n",
    "r = int(input('Input the RIGHT steps: '))\n",
    "l = int(input('Input the LEFT steps: '))\n",
    "\n",
    "x = round(((u-d)**2 + (r-l)**2)**0.5,2)\n",
    "\n",
    "print('Distance of current position is %.2f'%x)"
   ]
  },
  {
   "cell_type": "markdown",
   "metadata": {},
   "source": [
    "# 2. \n",
    "#### Function takes the sorted list and the data (Not necessary to be sorted, any unsorted list will also work)\n",
    "#### Outputs the list of elements which contains the data to be searched"
   ]
  },
  {
   "cell_type": "code",
   "execution_count": 43,
   "metadata": {},
   "outputs": [],
   "source": [
    "def check(str1,str2):\n",
    "    for i in range(len(str1)) :\n",
    "        j = i\n",
    "        k = 0\n",
    "        while str1[j] == str2[k] and k < len(str2)-1 and j < len(str1)-1 :\n",
    "            j += 1\n",
    "            k += 1\n",
    "        if str1[j] == str2[k] :\n",
    "            k += 1\n",
    "            if k == len(str2) :\n",
    "                return k\n",
    "    return k\n",
    "\n",
    "def find(sorted_list,data) :\n",
    "    n = 0\n",
    "    found = []\n",
    "    for i in range(len(sorted_list)) :\n",
    "        n = check(sorted_list[i],data)\n",
    "        if n == len(data) :\n",
    "            found += [sorted_list[i]]\n",
    "    return found"
   ]
  },
  {
   "cell_type": "markdown",
   "metadata": {},
   "source": [
    "# 3. "
   ]
  },
  {
   "cell_type": "code",
   "execution_count": 74,
   "metadata": {},
   "outputs": [
    {
     "name": "stdout",
     "output_type": "stream",
     "text": [
      "It is day.\n"
     ]
    }
   ],
   "source": [
    "from time import strftime,localtime\n",
    "\n",
    "h = localtime().tm_hour\n",
    "if h>=6 and h<18 :\n",
    "    print('It is day.')\n",
    "else :\n",
    "    print('It is night.')"
   ]
  },
  {
   "cell_type": "markdown",
   "metadata": {},
   "source": [
    "# 4. "
   ]
  },
  {
   "cell_type": "code",
   "execution_count": 2,
   "metadata": {},
   "outputs": [
    {
     "name": "stdout",
     "output_type": "stream",
     "text": [
      "Input coordinates of two points:\n",
      "point 1 latitude: 23.5\n",
      "point 1 longitude: 67.5\n",
      "point 2 latitude: 25.5\n",
      "point 2 longitude: 69.5\n",
      "The distance is 300.67km.\n"
     ]
    }
   ],
   "source": [
    "from math import radians, sin, cos, acos\n",
    "\n",
    "print(\"Input coordinates of two points:\")\n",
    "slat = radians(float(input(\"point 1 latitude: \")))\n",
    "slon = radians(float(input(\"point 1 longitude: \")))\n",
    "elat = radians(float(input(\"point 2 latitude: \")))\n",
    "elon = radians(float(input(\"point 2 longitude: \")))\n",
    "\n",
    "dist = 6371.01 * acos(sin(slat)*sin(elat) + cos(slat)*cos(elat)*cos(slon - elon))\n",
    "print(\"The distance is %.2fkm.\" % dist)"
   ]
  },
  {
   "cell_type": "markdown",
   "metadata": {},
   "source": [
    "# 5. "
   ]
  },
  {
   "cell_type": "code",
   "execution_count": null,
   "metadata": {},
   "outputs": [],
   "source": []
  },
  {
   "cell_type": "markdown",
   "metadata": {},
   "source": [
    "# 6. "
   ]
  },
  {
   "cell_type": "code",
   "execution_count": 76,
   "metadata": {},
   "outputs": [
    {
     "name": "stdout",
     "output_type": "stream",
     "text": [
      "2002,2009,2016,2023,2037,2044,2051,2058,2072,2079,2086,2093,2107,2114,2121,2128,2142,2149,2156,2163,2177,2184,2191,2198,2212,2219,2226,2233,2247,2254,2261,2268,2282,2289,2296,2303,2317,2324,2331,2338,2352,2359,2366,2373,2387,2394,2401,2408,2422,2429,2436,2443,2457,2464,2471,2478,2492,2499,2506,2513,2527,2534,2541,2548,2562,2569,2576,2583,2597,2604,2611,2618,2632,2639,2646,2653,2667,2674,2681,2688,2702,2709,2716,2723,2737,2744,2751,2758,2772,2779,2786,2793,2807,2814,2821,2828,2842,2849,2856,2863,2877,2884,2891,2898,2912,2919,2926,2933,2947,2954,2961,2968,2982,2989,2996,3003,3017,3024,3031,3038,3052,3059,3066,3073,3087,3094,3101,3108,3122,3129,3136,3143,3157,3164,3171,3178,3192,3199,"
     ]
    }
   ],
   "source": [
    "for i in range(2000,3201) :\n",
    "    if i%7 == 0 and i%5 != 0 :\n",
    "        print(i,end=',')"
   ]
  },
  {
   "cell_type": "markdown",
   "metadata": {},
   "source": [
    "# 7. "
   ]
  },
  {
   "cell_type": "code",
   "execution_count": 77,
   "metadata": {},
   "outputs": [
    {
     "name": "stdout",
     "output_type": "stream",
     "text": [
      "Input number is: 8\n",
      "40320\n"
     ]
    }
   ],
   "source": [
    "def fact(n) :\n",
    "    if n == 1 or n == 0 :\n",
    "        return 1\n",
    "    else :\n",
    "        return n*fact(n-1)\n",
    "\n",
    "n = int(input('Input number is: '))\n",
    "\n",
    "print(fact(n))"
   ]
  },
  {
   "cell_type": "markdown",
   "metadata": {},
   "source": [
    "# 8. "
   ]
  },
  {
   "cell_type": "code",
   "execution_count": 84,
   "metadata": {},
   "outputs": [
    {
     "name": "stdout",
     "output_type": "stream",
     "text": [
      "100,150,180\n",
      "18,22,24\n"
     ]
    }
   ],
   "source": [
    "def Q_sqrt(d) :\n",
    "    return [round((2*50*i/30)**0.5) for i in d]\n",
    "\n",
    "d = input().split(',')\n",
    "d = [int(i) for i in d]\n",
    "\n",
    "x = Q_sqrt(d)\n",
    "for i in range(len(x)-1) :\n",
    "    print(x[i],end=',')\n",
    "print(x[-1])"
   ]
  },
  {
   "cell_type": "markdown",
   "metadata": {},
   "source": [
    "# 9. "
   ]
  },
  {
   "cell_type": "code",
   "execution_count": 92,
   "metadata": {},
   "outputs": [
    {
     "name": "stdout",
     "output_type": "stream",
     "text": [
      "3,5\n",
      "[[0, 0, 0, 0, 0], [0, 1, 2, 3, 4], [0, 2, 4, 6, 8]]\n"
     ]
    }
   ],
   "source": [
    "n = input().split(',')\n",
    "a = []\n",
    "\n",
    "for i in range(int(n[0])) :\n",
    "    k = []\n",
    "    for j in range(int(n[1])) :\n",
    "        k += [i*j]\n",
    "    a += [k]\n",
    "\n",
    "print(a)"
   ]
  },
  {
   "cell_type": "markdown",
   "metadata": {},
   "source": [
    "# 10. "
   ]
  },
  {
   "cell_type": "code",
   "execution_count": 98,
   "metadata": {},
   "outputs": [
    {
     "name": "stdout",
     "output_type": "stream",
     "text": [
      "kahgfksjgh\n",
      "kahgfksjgh\n"
     ]
    }
   ],
   "source": [
    "a = input().split(',')\n",
    "a = sorted(a)\n",
    "for i in range(len(a)-1) :\n",
    "    print(a[i],end=',')\n",
    "print(a[-1])"
   ]
  },
  {
   "cell_type": "markdown",
   "metadata": {},
   "source": [
    "# 11. (incomplete"
   ]
  },
  {
   "cell_type": "code",
   "execution_count": 105,
   "metadata": {},
   "outputs": [
    {
     "name": "stdout",
     "output_type": "stream",
     "text": [
      "fhzh fhzr\\nksdzhg kasfg\n",
      "FHZH FHZR\\NKSDZHG KASFG\n"
     ]
    }
   ],
   "source": [
    "a = input().split('\\n')\n",
    "for i in a :\n",
    "    print(i.upper())"
   ]
  },
  {
   "cell_type": "markdown",
   "metadata": {},
   "source": [
    "# 12. "
   ]
  },
  {
   "cell_type": "code",
   "execution_count": 107,
   "metadata": {},
   "outputs": [
    {
     "name": "stdout",
     "output_type": "stream",
     "text": [
      "hello world and practice makes perfect and hello world again\n",
      "again and hello makes perfect practice world "
     ]
    }
   ],
   "source": [
    "a = input().split()\n",
    "a = sorted(list(set(a)))\n",
    "for i in a :\n",
    "    print(i,end=' ')"
   ]
  },
  {
   "cell_type": "markdown",
   "metadata": {},
   "source": [
    "# 13. "
   ]
  },
  {
   "cell_type": "code",
   "execution_count": 114,
   "metadata": {},
   "outputs": [
    {
     "name": "stdout",
     "output_type": "stream",
     "text": [
      "0100,0011,1010,1001\n",
      "1010\n"
     ]
    }
   ],
   "source": [
    "a = input().split(',')\n",
    "x = []\n",
    "for i in a :\n",
    "    if int(i,2)%5 == 0 :\n",
    "        x += [i]\n",
    "\n",
    "for i in range(len(x)-1) :\n",
    "    print(x[i],end=',')\n",
    "print(x[-1])"
   ]
  },
  {
   "cell_type": "markdown",
   "metadata": {},
   "source": [
    "# 14. "
   ]
  },
  {
   "cell_type": "code",
   "execution_count": 118,
   "metadata": {},
   "outputs": [
    {
     "name": "stdout",
     "output_type": "stream",
     "text": [
      "Hello world!\n",
      "UPPER CASE 1\n",
      "LOWER CASE 9\n"
     ]
    }
   ],
   "source": [
    "a = input()\n",
    "\n",
    "up = ['A','B','C','D','E','F','G','H','I','J','K','L','M','N','O','P','Q','R','S','T','U','V','W','X','Y','Z']\n",
    "low = [i.lower() for i in up]\n",
    "u = 0\n",
    "l = 0\n",
    "\n",
    "for i in a :\n",
    "    if i in up :\n",
    "        u += 1\n",
    "    elif i in low :\n",
    "        l += 1\n",
    "\n",
    "print('UPPER CASE %d'%u)\n",
    "print('LOWER CASE %d'%l)"
   ]
  },
  {
   "cell_type": "markdown",
   "metadata": {},
   "source": [
    "# 15. "
   ]
  },
  {
   "cell_type": "code",
   "execution_count": 11,
   "metadata": {},
   "outputs": [
    {
     "name": "stdout",
     "output_type": "stream",
     "text": [
      "45.0 45\n",
      "10.0 10.0\n",
      "10.0 10\n",
      "25.0 25\n",
      "11.0 11.0\n"
     ]
    }
   ],
   "source": [
    "import math\n",
    "\n",
    "a = range(10)\n",
    "print(math.fsum(a),sum(a))\n",
    "\n",
    "b = [1,2,3,4.0]\n",
    "print(math.fsum(b),sum(b))\n",
    "\n",
    "c = (1,2,3,4)\n",
    "print(math.fsum(c),sum(c))\n",
    "\n",
    "d = set([1,2,3,5,5,2,6,8,5,6,3,8,1,2])\n",
    "print(math.fsum(d),sum(d))\n",
    "\n",
    "e = [1.1,2.2,3.3,4.4]\n",
    "print(math.fsum(e),sum(e))"
   ]
  }
 ],
 "metadata": {
  "kernelspec": {
   "display_name": "Python 3",
   "language": "python",
   "name": "python3"
  },
  "language_info": {
   "codemirror_mode": {
    "name": "ipython",
    "version": 3
   },
   "file_extension": ".py",
   "mimetype": "text/x-python",
   "name": "python",
   "nbconvert_exporter": "python",
   "pygments_lexer": "ipython3",
   "version": "3.7.6"
  }
 },
 "nbformat": 4,
 "nbformat_minor": 4
}
