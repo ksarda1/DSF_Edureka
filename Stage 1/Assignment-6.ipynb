{
 "cells": [
  {
   "cell_type": "code",
   "execution_count": 106,
   "metadata": {},
   "outputs": [],
   "source": [
    "import pandas as pd\n",
    "\n",
    "file = pd.read_csv('FairDealCustomerData.csv',header=None)\n",
    "file[['Waste','Tile','Name']] = file[1].str.split(' ',2,expand = True)\n",
    "file.drop([1,'Waste'],axis=1,inplace=True)\n",
    "\n",
    "###cust_data is a data frame with required attributes like Title,Firstname,Surname,Allowed\n",
    "cust_data = file.rename(columns={0:'Surname',2:'Allowed','Name':'Firstname'})\n",
    "\n",
    "\n",
    "\n",
    "class Customer:\n",
    "    def __init__(self,data):\n",
    "        self.data = data\n",
    "\n",
    "class Error(Exception):\n",
    "    pass\n",
    "class CustomerNotAllowedException(Error):\n",
    "    pass\n",
    "\n",
    "class Order:\n",
    "    def __init__(self,customer,ProductName,ProductCode):\n",
    "        self.customer = customer\n",
    "        try:\n",
    "            if Customer(self.customer).data.Allowed[0]:\n",
    "                raise CustomerNotAllowedException\n",
    "            self.customer = customer\n",
    "            self.ProductName = ProductName\n",
    "            self.ProductCode = ProductCode\n",
    "        except CustomerNotAllowedException:\n",
    "            print('Customer not allowed. Order not created')\n",
    "        else:\n",
    "            print('Order created')"
   ]
  },
  {
   "cell_type": "code",
   "execution_count": null,
   "metadata": {},
   "outputs": [],
   "source": []
  }
 ],
 "metadata": {
  "kernelspec": {
   "display_name": "Python 3",
   "language": "python",
   "name": "python3"
  },
  "language_info": {
   "codemirror_mode": {
    "name": "ipython",
    "version": 3
   },
   "file_extension": ".py",
   "mimetype": "text/x-python",
   "name": "python",
   "nbconvert_exporter": "python",
   "pygments_lexer": "ipython3",
   "version": "3.7.6"
  }
 },
 "nbformat": 4,
 "nbformat_minor": 4
}
