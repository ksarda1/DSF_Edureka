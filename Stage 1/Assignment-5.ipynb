{
 "cells": [
  {
   "cell_type": "code",
   "execution_count": 29,
   "metadata": {},
   "outputs": [
    {
     "name": "stdout",
     "output_type": "stream",
     "text": [
      "Minimum age for eligibility is 19\n",
      "Maximum age for eligibility is 80\n",
      "Enter the profession: student\n",
      "Eligibility: True\n",
      "Enter the profession: admin.\n",
      "Eligibility: True\n",
      "Enter the profession: barber\n",
      "Eligibility: False\n",
      "Enter the profession: teacher\n",
      "Eligibility: False\n",
      "Enter the profession: housewife\n",
      "Eligibility: False\n",
      "Enter the profession: businessman\n",
      "Eligibility: False\n",
      "Enter the profession: entrepreuner\n",
      "Eligibility: False\n",
      "Enter the profession: END\n"
     ]
    }
   ],
   "source": [
    "import pandas as pd\n",
    "\n",
    "file = pd.read_csv('bank-data.csv')\n",
    "el = list(file.job.unique())\n",
    "\n",
    "min_age = file.age.min()\n",
    "max_age = file.age.max()\n",
    "\n",
    "print('Minimum age for eligibility is %d'%min_age)\n",
    "print('Maximum age for eligibility is %d'%max_age)\n",
    "\n",
    "prof = input('Enter the profession: ')\n",
    "while prof != 'END' :\n",
    "    print('Eligibility:',prof.upper() in [i.upper() for i in el])\n",
    "    prof = input('Enter the profession: ')"
   ]
  }
 ],
 "metadata": {
  "kernelspec": {
   "display_name": "Python 3",
   "language": "python",
   "name": "python3"
  },
  "language_info": {
   "codemirror_mode": {
    "name": "ipython",
    "version": 3
   },
   "file_extension": ".py",
   "mimetype": "text/x-python",
   "name": "python",
   "nbconvert_exporter": "python",
   "pygments_lexer": "ipython3",
   "version": "3.7.6"
  }
 },
 "nbformat": 4,
 "nbformat_minor": 4
}
