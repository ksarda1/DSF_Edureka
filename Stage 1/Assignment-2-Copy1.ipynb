{
 "cells": [
  {
   "cell_type": "markdown",
   "metadata": {},
   "source": [
    "# 1. What is the output of the following code?\n",
    "### nums =set([1,1,2,3,3,3,4,4])\n",
    "### print(len(nums))"
   ]
  },
  {
   "cell_type": "markdown",
   "metadata": {},
   "source": [
    "# output: 4"
   ]
  },
  {
   "cell_type": "markdown",
   "metadata": {},
   "source": [
    "# 2. What will be the output?\n",
    "### d ={\"john\":40, \"peter\":45}\n",
    "### print(list(d.keys()))\n",
    "# output: ['john','peter']"
   ]
  },
  {
   "cell_type": "markdown",
   "metadata": {},
   "source": [
    "# 3. "
   ]
  },
  {
   "cell_type": "code",
   "execution_count": 31,
   "metadata": {},
   "outputs": [
    {
     "name": "stdout",
     "output_type": "stream",
     "text": [
      "Python@2020\n",
      "criteria fulfilled\n"
     ]
    }
   ],
   "source": [
    "password = list(input())\n",
    "\n",
    "small_letters = ['a','b','c','d','e','f','g','h','i','j','k','l','m','n','o','p','q','r','s','t','u','v','w','x','y','z']\n",
    "capital_letters = [i.upper() for i in small_letters]\n",
    "digits = ['0','1','2','3','4','5','6','7','8','9']\n",
    "char = ['$','#','@']\n",
    "\n",
    "s = 0\n",
    "c = 0\n",
    "d = 0\n",
    "ch = 0\n",
    "if len(password)>5 & len(password)<13:\n",
    "    for i in password:\n",
    "        if i in small_letters:\n",
    "            s = 1\n",
    "        elif i in capital_letters:\n",
    "            c = 1\n",
    "        elif i in digits:\n",
    "            d = 1\n",
    "        elif i in char:\n",
    "            ch = 1\n",
    "    if s & c & d & ch:\n",
    "        print('criteria fulfilled')\n",
    "    else:\n",
    "        print('criteria not fulfilled')\n",
    "else:\n",
    "    print('criteria not fulfilled')"
   ]
  },
  {
   "cell_type": "markdown",
   "metadata": {},
   "source": [
    "# 4. "
   ]
  },
  {
   "cell_type": "code",
   "execution_count": 36,
   "metadata": {},
   "outputs": [
    {
     "name": "stdout",
     "output_type": "stream",
     "text": [
      "elements of list are: 4,7,3,2,5,9,\n",
      "4 is at position 1\n",
      "7 is at position 2\n",
      "3 is at position 3\n",
      "2 is at position 4\n",
      "5 is at position 5\n",
      "9 is at position 6\n"
     ]
    }
   ],
   "source": [
    "a = [4,7,3,2,5,9]\n",
    "\n",
    "print('elements of list are: ',end='')\n",
    "for i in a:\n",
    "    print(i,end=',')\n",
    "print()\n",
    "for i in range(len(a)):\n",
    "    print('%d is at position %d'%(a[i],i+1))"
   ]
  },
  {
   "cell_type": "markdown",
   "metadata": {},
   "source": [
    "# 5. "
   ]
  },
  {
   "cell_type": "code",
   "execution_count": 41,
   "metadata": {},
   "outputs": [
    {
     "name": "stdout",
     "output_type": "stream",
     "text": [
      "datascience\n",
      "characters with even indexes are: d,t,s,i,n,e,"
     ]
    }
   ],
   "source": [
    "s = input()\n",
    "\n",
    "print('characters with even indexes are: ',end='')\n",
    "for i in range(0,len(s),2):\n",
    "    print(s[i],end=',')"
   ]
  },
  {
   "cell_type": "markdown",
   "metadata": {},
   "source": [
    "# 6. "
   ]
  },
  {
   "cell_type": "code",
   "execution_count": 43,
   "metadata": {},
   "outputs": [
    {
     "name": "stdout",
     "output_type": "stream",
     "text": [
      "data science\n",
      "ecneics atad\n"
     ]
    }
   ],
   "source": [
    "s = input()\n",
    "print(s[::-1])"
   ]
  },
  {
   "cell_type": "markdown",
   "metadata": {},
   "source": [
    "# 7. "
   ]
  },
  {
   "cell_type": "code",
   "execution_count": 68,
   "metadata": {},
   "outputs": [
    {
     "name": "stdout",
     "output_type": "stream",
     "text": [
      "abcdefgabc\n",
      "b 2\n",
      "c 2\n",
      "a 2\n",
      "e 1\n",
      "f 1\n",
      "d 1\n",
      "g 1\n"
     ]
    }
   ],
   "source": [
    "s = list(input())\n",
    "\n",
    "s1 = list(set(s))\n",
    "ans = {}\n",
    "for i in s1:\n",
    "    ans[i] = 0\n",
    "\n",
    "for i in s:\n",
    "    ans[i]+=1\n",
    "\n",
    "ans = sorted(ans.items(), key = lambda x:x[1], reverse = True)\n",
    "ans\n",
    "for i in ans:\n",
    "    print(i[0],i[1])"
   ]
  },
  {
   "cell_type": "markdown",
   "metadata": {},
   "source": [
    "# 8. "
   ]
  },
  {
   "cell_type": "code",
   "execution_count": 69,
   "metadata": {},
   "outputs": [
    {
     "name": "stdout",
     "output_type": "stream",
     "text": [
      "[35]\n"
     ]
    }
   ],
   "source": [
    "a = [1,3,6,78,35,55]\n",
    "b = [12,24,35,24,88,120,155]\n",
    "\n",
    "ans = []\n",
    "for i in a:\n",
    "    if i in b:\n",
    "        ans += [i]\n",
    "\n",
    "print(ans)"
   ]
  },
  {
   "cell_type": "markdown",
   "metadata": {},
   "source": [
    "# 9. "
   ]
  },
  {
   "cell_type": "code",
   "execution_count": 75,
   "metadata": {},
   "outputs": [
    {
     "data": {
      "text/plain": [
       "[12, 24, 35, 88, 120, 155]"
      ]
     },
     "execution_count": 75,
     "metadata": {},
     "output_type": "execute_result"
    }
   ],
   "source": [
    "a = [12,24,35,24,88,120,155,88,120,155]\n",
    "\n",
    "list(dict.fromkeys(a))"
   ]
  },
  {
   "cell_type": "markdown",
   "metadata": {},
   "source": [
    "# 10. "
   ]
  },
  {
   "cell_type": "code",
   "execution_count": 76,
   "metadata": {},
   "outputs": [
    {
     "name": "stdout",
     "output_type": "stream",
     "text": [
      "[12, 35, 88, 120, 155]\n"
     ]
    }
   ],
   "source": [
    "a = [12,24,35,24,88,120,155]\n",
    "\n",
    "print([i for i in a if i != 24])"
   ]
  },
  {
   "cell_type": "markdown",
   "metadata": {},
   "source": [
    "# 11. "
   ]
  },
  {
   "cell_type": "code",
   "execution_count": 84,
   "metadata": {},
   "outputs": [
    {
     "name": "stdout",
     "output_type": "stream",
     "text": [
      "[24, 35, 70, 155]\n"
     ]
    }
   ],
   "source": [
    "a = [12,24,35,70,88,120,155]\n",
    "\n",
    "print([a[i] for i in range(len(a)) if i != 0 and i != 4 and i != 5])"
   ]
  },
  {
   "cell_type": "markdown",
   "metadata": {},
   "source": [
    "# 12. "
   ]
  },
  {
   "cell_type": "code",
   "execution_count": 89,
   "metadata": {},
   "outputs": [
    {
     "name": "stdout",
     "output_type": "stream",
     "text": [
      "[12, 24, 88]\n"
     ]
    }
   ],
   "source": [
    "a= [12,24,35,70,88,120,155]\n",
    "\n",
    "print([i for i in a if i%5 != 0 and i%7 != 0])"
   ]
  },
  {
   "cell_type": "markdown",
   "metadata": {},
   "source": [
    "# 13. "
   ]
  },
  {
   "cell_type": "code",
   "execution_count": 108,
   "metadata": {},
   "outputs": [
    {
     "data": {
      "text/plain": [
       "[436, 871, 264, 612, 626]"
      ]
     },
     "execution_count": 108,
     "metadata": {},
     "output_type": "execute_result"
    }
   ],
   "source": [
    "a = [ i for i in range(1,1001) if i%5 != 0 and i%7 != 0]\n",
    "\n",
    "import random\n",
    "\n",
    "random.sample(a,5)"
   ]
  },
  {
   "cell_type": "markdown",
   "metadata": {},
   "source": [
    "# 14. "
   ]
  },
  {
   "cell_type": "code",
   "execution_count": 103,
   "metadata": {},
   "outputs": [
    {
     "name": "stdout",
     "output_type": "stream",
     "text": [
      "Input the value of n: 5\n",
      "3.55\n"
     ]
    }
   ],
   "source": [
    "n = int(input('Input the value of n: '))\n",
    "\n",
    "s = 0\n",
    "for i in range(n):\n",
    "    s += (i+1)/(i+2)\n",
    "\n",
    "print(round(s,2))"
   ]
  },
  {
   "cell_type": "code",
   "execution_count": null,
   "metadata": {},
   "outputs": [],
   "source": []
  }
 ],
 "metadata": {
  "kernelspec": {
   "display_name": "Python 3",
   "language": "python",
   "name": "python3"
  },
  "language_info": {
   "codemirror_mode": {
    "name": "ipython",
    "version": 3
   },
   "file_extension": ".py",
   "mimetype": "text/x-python",
   "name": "python",
   "nbconvert_exporter": "python",
   "pygments_lexer": "ipython3",
   "version": "3.7.6"
  }
 },
 "nbformat": 4,
 "nbformat_minor": 4
}
