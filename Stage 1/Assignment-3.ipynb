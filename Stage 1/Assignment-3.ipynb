{
 "cells": [
  {
   "cell_type": "code",
   "execution_count": null,
   "metadata": {},
   "outputs": [],
   "source": [
    "r = input('Input the Reference number: ')\n",
    "\n",
    "if len(r) != 12 :\n",
    "    print('Invalid reference number.')\n",
    "\n",
    "small_letters = ['a','b','c','d','e','f','g','h','i','j','k','l','m','n','o','p','q','r','s','t','u','v','w','x','y','z']\n",
    "capital_letters = [i.upper() for i in small_letters]\n",
    "digits = ['0','1','2','3','4','5','6','7','8','9']\n",
    "\n",
    "for i in r:\n",
    "    if i not in small_letters and i not in capital_letters and i not in digits :\n",
    "        print('Invalid character found in reference number.')\n",
    "\n",
    "re = [ord(i) for i in r]\n",
    "\n",
    "import random\n",
    "\n",
    "x = random.sample(list(range(1,11)),1)\n",
    "x\n",
    "re = [x[0]+a for a in re]\n",
    "\n",
    "ren = [chr(i) for i in re]\n",
    "print('Encrypted Reference number is: ')\n",
    "for i in ren :\n",
    "    print(i,end='')\n",
    "\n",
    "#For decryption\n",
    "\n",
    "re = [chr(a-x[0]) for a in re]\n",
    "print()\n",
    "print('Decrypted Reference number is: ')\n",
    "for i in re :\n",
    "    print(i,end='')"
   ]
  }
 ],
 "metadata": {
  "kernelspec": {
   "display_name": "Python 3",
   "language": "python",
   "name": "python3"
  },
  "language_info": {
   "codemirror_mode": {
    "name": "ipython",
    "version": 3
   },
   "file_extension": ".py",
   "mimetype": "text/x-python",
   "name": "python",
   "nbconvert_exporter": "python",
   "pygments_lexer": "ipython3",
   "version": "3.7.6"
  }
 },
 "nbformat": 4,
 "nbformat_minor": 4
}
