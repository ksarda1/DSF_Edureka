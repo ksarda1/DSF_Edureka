{
 "cells": [
  {
   "cell_type": "markdown",
   "metadata": {},
   "source": [
    "# 1. Program to find the factors\n",
    "### returns all the factors and whether even or odd\n",
    "##### for loop used with if-else"
   ]
  },
  {
   "cell_type": "code",
   "execution_count": 9,
   "metadata": {},
   "outputs": [
    {
     "name": "stdout",
     "output_type": "stream",
     "text": [
      "100\n",
      "Number is 100\n",
      "Factros are: \n",
      "1 ,2 ,4 ,5 ,10 ,20 ,25 ,50 ,100 ,\n",
      "1 is odd factor\n",
      "2 is even factor\n",
      "4 is even factor\n",
      "5 is odd factor\n",
      "10 is even factor\n",
      "20 is even factor\n",
      "25 is odd factor\n",
      "50 is even factor\n",
      "100 is even factor\n"
     ]
    }
   ],
   "source": [
    "n = int(input())\n",
    "\n",
    "ans1 = {}\n",
    "for i in range(1,n+1):\n",
    "    if n%i == 0:\n",
    "        if i%2 :\n",
    "            ans1[i] = 'odd factor'\n",
    "        else:\n",
    "            ans1[i] = 'even factor'\n",
    "\n",
    "print('Number is %d'%n)\n",
    "print('Factros are: ')\n",
    "for i in ans1.keys():\n",
    "    print('%d ,'%i,end='')\n",
    "print()\n",
    "for i in ans1.keys():\n",
    "    print('%d is %s'%(i,ans1[i]))"
   ]
  },
  {
   "cell_type": "markdown",
   "metadata": {},
   "source": [
    "# 2. Program to take the console input and returns the sorted list"
   ]
  },
  {
   "cell_type": "code",
   "execution_count": 33,
   "metadata": {},
   "outputs": [
    {
     "name": "stdout",
     "output_type": "stream",
     "text": [
      "f g h j k dsgn\n",
      "sorted sequence is:\n",
      "dsgn\n",
      "f\n",
      "g\n",
      "h\n",
      "j\n",
      "k\n"
     ]
    },
    {
     "data": {
      "text/plain": [
       "['dsgn', 'f', 'g', 'h', 'j', 'k']"
      ]
     },
     "execution_count": 33,
     "metadata": {},
     "output_type": "execute_result"
    }
   ],
   "source": [
    "ans2 = list(input().split())\n",
    "ans2 = sorted(ans2)\n",
    "\n",
    "print('sorted sequence is:')\n",
    "for i in range(len(ans2)):\n",
    "    print(ans2[i])"
   ]
  },
  {
   "cell_type": "markdown",
   "metadata": {},
   "source": [
    "# 3. Program to find numbers with all even digits"
   ]
  },
  {
   "cell_type": "code",
   "execution_count": 10,
   "metadata": {},
   "outputs": [
    {
     "name": "stdout",
     "output_type": "stream",
     "text": [
      "2000, 2002, 2004, 2006, 2008, 2020, 2022, 2024, 2026, 2028, 2040, 2042, 2044, 2046, 2048, 2060, 2062, 2064, 2066, 2068, 2080, 2082, 2084, 2086, 2088, 2200, 2202, 2204, 2206, 2208, 2220, 2222, 2224, 2226, 2228, 2240, 2242, 2244, 2246, 2248, 2260, 2262, 2264, 2266, 2268, 2280, 2282, 2284, 2286, 2288, 2400, 2402, 2404, 2406, 2408, 2420, 2422, 2424, 2426, 2428, 2440, 2442, 2444, 2446, 2448, 2460, 2462, 2464, 2466, 2468, 2480, 2482, 2484, 2486, 2488, 2600, 2602, 2604, 2606, 2608, 2620, 2622, 2624, 2626, 2628, 2640, 2642, 2644, 2646, 2648, 2660, 2662, 2664, 2666, 2668, 2680, 2682, 2684, 2686, 2688, 2800, 2802, 2804, 2806, 2808, 2820, 2822, 2824, 2826, 2828, 2840, 2842, 2844, 2846, 2848, 2860, 2862, 2864, 2866, 2868, 2880, 2882, 2884, 2886, 2888, "
     ]
    }
   ],
   "source": [
    "ans3 = []\n",
    "for i in range(1000,3001):\n",
    "    j = i\n",
    "    if j%2 == 0 :\n",
    "        j //= 10\n",
    "        if j%2 == 0 :\n",
    "            j //= 10\n",
    "            if j%2 == 0 :\n",
    "                j //= 10\n",
    "                if j%2 == 0 :\n",
    "                    ans3 = ans3 + [i]\n",
    "\n",
    "for i in ans3:\n",
    "    print('%d, '%i,end='')"
   ]
  },
  {
   "cell_type": "markdown",
   "metadata": {},
   "source": [
    "# 4. "
   ]
  },
  {
   "cell_type": "code",
   "execution_count": 39,
   "metadata": {},
   "outputs": [
    {
     "name": "stdout",
     "output_type": "stream",
     "text": [
      "Python0325\n",
      "LETTERS :  6\n",
      "DIGITS :  4\n"
     ]
    }
   ],
   "source": [
    "x = input().upper()\n",
    "\n",
    "letters = 0\n",
    "digits = 0\n",
    "\n",
    "for i in x:\n",
    "    if i in ['A','B','C','D','E','F','G','H','I','J','K','L','M','N','O','P','Q','R','S','T','U','V','W','X','Y','Z'] :\n",
    "        letters += 1\n",
    "    elif i in ['0','1','2','3','4','5','6','7','8','9'] :\n",
    "        digits += 1\n",
    "\n",
    "print('LETTERS : ',letters)\n",
    "print('DIGITS : ',digits)"
   ]
  },
  {
   "cell_type": "markdown",
   "metadata": {},
   "source": [
    "# 5. "
   ]
  },
  {
   "cell_type": "code",
   "execution_count": 11,
   "metadata": {},
   "outputs": [
    {
     "name": "stdout",
     "output_type": "stream",
     "text": [
      "45654\n",
      "given number is palindrome\n"
     ]
    }
   ],
   "source": [
    "x = input()\n",
    "\n",
    "count = 0\n",
    "for i in range(len(x)):\n",
    "    if x[i] == x[-(i+1)] :\n",
    "        count+=1\n",
    "\n",
    "if count == len(x) :\n",
    "    print('given number is palindrome')\n",
    "else :\n",
    "    print('given number is not a palindrome number')"
   ]
  },
  {
   "cell_type": "code",
   "execution_count": null,
   "metadata": {},
   "outputs": [],
   "source": []
  }
 ],
 "metadata": {
  "kernelspec": {
   "display_name": "Python 3",
   "language": "python",
   "name": "python3"
  },
  "language_info": {
   "codemirror_mode": {
    "name": "ipython",
    "version": 3
   },
   "file_extension": ".py",
   "mimetype": "text/x-python",
   "name": "python",
   "nbconvert_exporter": "python",
   "pygments_lexer": "ipython3",
   "version": "3.7.6"
  }
 },
 "nbformat": 4,
 "nbformat_minor": 4
}
