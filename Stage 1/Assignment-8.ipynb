{
 "cells": [
  {
   "cell_type": "code",
   "execution_count": 1,
   "metadata": {},
   "outputs": [],
   "source": [
    "import pandas as pd"
   ]
  },
  {
   "cell_type": "markdown",
   "metadata": {},
   "source": [
    "1.Inserting the score file in Data Frames"
   ]
  },
  {
   "cell_type": "code",
   "execution_count": 2,
   "metadata": {},
   "outputs": [],
   "source": [
    "math = pd.read_csv('MathScoreTerm1.csv')\n",
    "physics = pd.read_csv('PhysicsScoreTerm1.csv')\n",
    "ds = pd.read_csv('DSScoreTerm1.csv')"
   ]
  },
  {
   "cell_type": "markdown",
   "metadata": {},
   "source": [
    "2.Removing the Name Column"
   ]
  },
  {
   "cell_type": "code",
   "execution_count": 3,
   "metadata": {},
   "outputs": [],
   "source": [
    "ds = ds.drop(columns = ['Name'],axis = 1)\n",
    "math = math.drop(columns = ['Name'],axis = 1)\n",
    "physics = physics.drop(columns = ['Name'],axis = 1)"
   ]
  },
  {
   "cell_type": "markdown",
   "metadata": {},
   "source": [
    "Converting ethinicity to numerical values"
   ]
  },
  {
   "cell_type": "code",
   "execution_count": 4,
   "metadata": {},
   "outputs": [],
   "source": [
    "ds.Ethinicity.replace('White American',0,inplace=True)\n",
    "ds.Ethinicity.replace('European American',1,inplace=True)\n",
    "ds.Ethinicity.replace('Hispanic',2,inplace=True)\n",
    "ds.Ethinicity.replace('African American',3,inplace=True)\n",
    "\n",
    "math.Ethinicity.replace('White American',0,inplace=True)\n",
    "math.Ethinicity.replace('European American',1,inplace=True)\n",
    "math.Ethinicity.replace('Hispanic',2,inplace=True)\n",
    "math.Ethinicity.replace('African American',3,inplace=True)\n",
    "\n",
    "physics.Ethinicity.replace('White American',0,inplace=True)\n",
    "physics.Ethinicity.replace('European American',1,inplace=True)\n",
    "physics.Ethinicity.replace('Hispanic',2,inplace=True)\n",
    "physics.Ethinicity.replace('African American',3,inplace=True)"
   ]
  },
  {
   "cell_type": "markdown",
   "metadata": {},
   "source": [
    "3.Filling the missing values with there respective Mean"
   ]
  },
  {
   "cell_type": "code",
   "execution_count": 5,
   "metadata": {},
   "outputs": [],
   "source": [
    "physics = physics.fillna(physics.Score.mean())\n",
    "ds = ds.fillna(ds.Score.mean())\n",
    "math = math.fillna(math.Score.mean())"
   ]
  },
  {
   "cell_type": "code",
   "execution_count": 6,
   "metadata": {},
   "outputs": [],
   "source": [
    "math.rename({'Score':'Math_score'}, inplace = True, axis = 1)\n",
    "ds.rename({'Score':'Ds_score'}, inplace = True, axis = 1)\n",
    "physics.rename({'Score':'Physics_score'}, inplace = True, axis = 1)"
   ]
  },
  {
   "cell_type": "markdown",
   "metadata": {},
   "source": [
    "4.Mearging the three Scores into single Data Frame"
   ]
  },
  {
   "cell_type": "code",
   "execution_count": 7,
   "metadata": {},
   "outputs": [],
   "source": [
    "a = math.merge(ds[['Ds_score','ID']],on='ID')\n",
    "final_score = a.merge(physics[['Physics_score','ID']],on='ID')"
   ]
  },
  {
   "cell_type": "markdown",
   "metadata": {},
   "source": [
    "5.Changing Sex clumn to 1/2"
   ]
  },
  {
   "cell_type": "code",
   "execution_count": 8,
   "metadata": {},
   "outputs": [],
   "source": [
    "final_score.Sex.replace('M',1,inplace=True)\n",
    "final_score.Sex.replace('F',2,inplace=True)"
   ]
  },
  {
   "cell_type": "markdown",
   "metadata": {},
   "source": [
    "6.Storing the Data in new file"
   ]
  },
  {
   "cell_type": "code",
   "execution_count": 9,
   "metadata": {},
   "outputs": [],
   "source": [
    "final_score.to_csv('ScoreFinal.csv')"
   ]
  },
  {
   "cell_type": "code",
   "execution_count": null,
   "metadata": {},
   "outputs": [],
   "source": []
  }
 ],
 "metadata": {
  "kernelspec": {
   "display_name": "Python 3",
   "language": "python",
   "name": "python3"
  },
  "language_info": {
   "codemirror_mode": {
    "name": "ipython",
    "version": 3
   },
   "file_extension": ".py",
   "mimetype": "text/x-python",
   "name": "python",
   "nbconvert_exporter": "python",
   "pygments_lexer": "ipython3",
   "version": "3.7.6"
  }
 },
 "nbformat": 4,
 "nbformat_minor": 4
}
